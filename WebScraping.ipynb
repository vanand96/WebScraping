{
 "cells": [
  {
   "cell_type": "markdown",
   "id": "6eff5898-b0ab-4776-be3d-e49c23de62ed",
   "metadata": {},
   "source": [
    "## 1. This program will open https://www.redfin.com/ and search for the california counties\n",
    "## 2. It will download the housing information of each county if the download link is available\n",
    "## 3. It will finally merge all the housing information into one csv file\n",
    "### Note: Install the below python libraries before running this notebook\n",
    "\n",
    "#### pip install selenium\n",
    "#### pip install requests\n",
    "#### pip install bs4\n",
    "#### pip install webdriver-manager\n",
    "#### pip install pandas\n",
    "#### pip install requests"
   ]
  },
  {
   "cell_type": "code",
   "execution_count": 1,
   "id": "63af4119-c4a6-4d5f-979a-e4f9099b06a2",
   "metadata": {},
   "outputs": [
    {
     "name": "stderr",
     "output_type": "stream",
     "text": [
      "[WDM] - \n",
      "\n",
      "[WDM] - ====== WebDriver manager ======\n",
      "[WDM] - Current google-chrome version is 95.0.4638\n",
      "[WDM] - Get LATEST driver version for 95.0.4638\n",
      "[WDM] - Driver [C:\\Users\\avadavelli\\.wdm\\drivers\\chromedriver\\win32\\95.0.4638.54\\chromedriver.exe] found in cache\n",
      "C:\\ProgramData\\Anaconda3\\envs\\test\\lib\\site-packages\\ipykernel_launcher.py:17: DeprecationWarning: use options instead of chrome_options\n"
     ]
    }
   ],
   "source": [
    "from selenium import webdriver\n",
    "from selenium.webdriver.chrome.service import Service\n",
    "from webdriver_manager.chrome import ChromeDriverManager\n",
    "from selenium.webdriver.common.by import By\n",
    "from selenium.webdriver.common.keys import Keys\n",
    "import time\n",
    "import pandas as pd\n",
    "import requests\n",
    "import io\n",
    "import os\n",
    "import glob\n",
    "\n",
    "# Start the chrome browser\n",
    "s=Service(ChromeDriverManager().install())\n",
    "chrome_options = webdriver.ChromeOptions()\n",
    "chrome_options.add_argument(\"--incognito\")\n",
    "driver = webdriver.Chrome(service=s, chrome_options=chrome_options)\n",
    "driver.maximize_window()"
   ]
  },
  {
   "cell_type": "code",
   "execution_count": 2,
   "id": "78d812ad-b108-41aa-af19-8e7ba181717f",
   "metadata": {},
   "outputs": [
    {
     "data": {
      "text/plain": [
       "array(['Los Angeles County', 'Orange County', 'Ventura County',\n",
       "       'San Bernardino County', 'Riverside County', 'San Diego County',\n",
       "       'Imperial County', 'Inyo County', 'Santa Barbara County',\n",
       "       'Tulare County', 'Kings County', 'Kern County', 'Fresno County',\n",
       "       'San Luis Obispo County', 'Monterey County', 'Mono County',\n",
       "       'Madera County', 'Merced County', 'Mariposa County',\n",
       "       'San Mateo County', 'Santa Clara County', 'San Francisco County',\n",
       "       'Sacramento County', 'Alameda County', 'Napa County',\n",
       "       'Contra Costa County', 'Solano County', 'Marin County',\n",
       "       'Sonoma County', 'Santa Cruz County', 'San Benito County',\n",
       "       'San Joaquin County', 'Calaveras County', 'Tuolumne County',\n",
       "       'Stanislaus County', 'Mendocino County', 'Lake County',\n",
       "       'Humboldt County', 'Trinity County', 'Del Norte County',\n",
       "       'Siskiyou County', 'Amador County', 'Placer County', 'Yolo County',\n",
       "       'El Dorado County', 'Alpine County', 'Sutter County',\n",
       "       'Yuba County', 'Nevada County', 'Sierra County', 'Colusa County',\n",
       "       'Glenn County', 'Butte County', 'Plumas County', 'Shasta County',\n",
       "       'Modoc County', 'Lassen County', 'Tehama County'], dtype=object)"
      ]
     },
     "execution_count": 2,
     "metadata": {},
     "output_type": "execute_result"
    }
   ],
   "source": [
    "# Download the zip code database from https://www.unitedstateszipcodes.org/zip-code-database/\n",
    "# Get all California county names\n",
    "df = pd.read_csv('zip_code_database.csv')\n",
    "df = df[df['state']=='CA']\n",
    "df = df[df['county'].notna()]\n",
    "all_ca_counties = df['county'].unique()\n",
    "all_ca_counties"
   ]
  },
  {
   "cell_type": "code",
   "execution_count": 3,
   "id": "888dd202-3a7f-4545-8525-6a438dee9bb4",
   "metadata": {},
   "outputs": [],
   "source": [
    "# This method will open https://www.redfin.com, search for the county name and return the download link\n",
    "def searchByCounty(countyName):\n",
    "    driver.get('https://www.redfin.com')\n",
    "    time.sleep(15)\n",
    "    try:\n",
    "        driver.find_element(By.XPATH, \"//input[contains(@id, 'search-box-input') and contains(@title, 'City, Address, School, Agent, ZIP')]\").click()\n",
    "        if driver.find_element(By.XPATH, \"//input[contains(@title, 'Clear')]\").is_displayed():\n",
    "            driver.find_element(By.XPATH, \"//input[contains(@title, 'Clear')]\").click()\n",
    "        driver.find_element(By.XPATH, \"//input[contains(@id, 'search-box-input') and contains(@placeholder, 'City, Address, School, Agent, ZIP')]\").send_keys(countyName)\n",
    "        time.sleep(3)\n",
    "        driver.find_element(By.XPATH, \"//a[text()='\" + countyName + \"']\").click()\n",
    "        download_link = driver.find_element(By.XPATH, \"//a[contains(@id, 'download-and-save')]\").get_attribute(\"href\")\n",
    "        all_links = download_link.split('num_homes=350')\n",
    "        print('Download link available for: '+countyName)\n",
    "        return (all_links[0]+'num_homes=10000'+all_links[1])\n",
    "    except Exception as e:\n",
    "        print('Unable to get download link for: '+countyName)\n",
    "        return      "
   ]
  },
  {
   "cell_type": "code",
   "execution_count": 4,
   "id": "ff394a45-7d83-4c82-89fb-2f773a815be9",
   "metadata": {},
   "outputs": [
    {
     "name": "stdout",
     "output_type": "stream",
     "text": [
      "Download link available for: Los Angeles County\n",
      "Download link available for: Orange County\n",
      "Download link available for: Ventura County\n",
      "Download link available for: San Bernardino County\n",
      "Download link available for: Riverside County\n",
      "Download link available for: San Diego County\n",
      "Unable to get download link for: Imperial County\n",
      "Unable to get download link for: Inyo County\n",
      "Download link available for: Santa Barbara County\n",
      "Unable to get download link for: Tulare County\n",
      "Download link available for: Kings County\n",
      "Download link available for: Kern County\n",
      "Unable to get download link for: Fresno County\n",
      "Download link available for: San Luis Obispo County\n",
      "Download link available for: Monterey County\n",
      "Unable to get download link for: Mono County\n",
      "Unable to get download link for: Madera County\n",
      "Unable to get download link for: Merced County\n",
      "Unable to get download link for: Mariposa County\n",
      "Download link available for: San Mateo County\n",
      "Download link available for: Santa Clara County\n",
      "Download link available for: San Francisco County\n",
      "Unable to get download link for: Sacramento County\n",
      "Download link available for: Alameda County\n",
      "Download link available for: Napa County\n",
      "Download link available for: Contra Costa County\n",
      "Download link available for: Solano County\n",
      "Download link available for: Marin County\n",
      "Download link available for: Sonoma County\n",
      "Download link available for: Santa Cruz County\n",
      "Download link available for: San Benito County\n",
      "Unable to get download link for: San Joaquin County\n",
      "Unable to get download link for: Calaveras County\n",
      "Unable to get download link for: Tuolumne County\n",
      "Unable to get download link for: Stanislaus County\n",
      "Unable to get download link for: Mendocino County\n",
      "Unable to get download link for: Lake County\n",
      "Unable to get download link for: Humboldt County\n",
      "Download link available for: Trinity County\n",
      "Unable to get download link for: Del Norte County\n",
      "Unable to get download link for: Siskiyou County\n",
      "Unable to get download link for: Amador County\n",
      "Unable to get download link for: Placer County\n",
      "Unable to get download link for: Yolo County\n",
      "Unable to get download link for: El Dorado County\n",
      "Unable to get download link for: Alpine County\n",
      "Unable to get download link for: Sutter County\n",
      "Unable to get download link for: Yuba County\n",
      "Unable to get download link for: Nevada County\n",
      "Unable to get download link for: Sierra County\n",
      "Unable to get download link for: Colusa County\n",
      "Unable to get download link for: Glenn County\n",
      "Unable to get download link for: Butte County\n",
      "Unable to get download link for: Plumas County\n",
      "Unable to get download link for: Shasta County\n",
      "Unable to get download link for: Modoc County\n",
      "Unable to get download link for: Lassen County\n",
      "Unable to get download link for: Tehama County\n"
     ]
    }
   ],
   "source": [
    "# Remove None from the download_urls\n",
    "download_urls = [searchByCounty(county) for county in all_ca_counties]\n",
    "urls = list(filter(None, download_urls))"
   ]
  },
  {
   "cell_type": "code",
   "execution_count": 5,
   "id": "b5501662-80d6-4f84-b74f-e39795b4404e",
   "metadata": {},
   "outputs": [],
   "source": [
    "# Close the browser\n",
    "driver.close()"
   ]
  },
  {
   "cell_type": "code",
   "execution_count": 6,
   "id": "6116549d-4553-4b1a-a373-d4f390d32651",
   "metadata": {},
   "outputs": [],
   "source": [
    "# This method will download the refin data and save it to the csv file\n",
    "def downloadCSV(url, index):\n",
    "    headers = {\"accept\" : \"text/html,application/xhtml+xml,application/xml;q=0.9,image/avif,image/webp,image/apng,*/*;q=0.8,application/signed-exchange;v=b3;q=0.9\",\n",
    "    \"accept-encoding\" : \"gzip, deflate, br\", \n",
    "    \"accept-language\" : \"en-US,en;q=0.9\", \n",
    "    \"cache-control\" : \"max-age=0\",\n",
    "    \"user-agent\" : \"Mozilla/5.0 (Windows NT 10.0; Win64; x64) AppleWebKit/537.36 (KHTML, like Gecko) Chrome/92.0.4515.159 Safari/537.36\"}\n",
    "    response = requests.get(url, headers=headers)\n",
    "    if response.ok:\n",
    "        data = response.content.decode('utf8')\n",
    "        df = pd.read_csv(io.StringIO(data))\n",
    "        if not os.path.exists('CountyData'):\n",
    "            os.mkdir('CountyData')\n",
    "        df.to_csv('CountyData/'+str(index)+'.csv')   "
   ]
  },
  {
   "cell_type": "code",
   "execution_count": 7,
   "id": "25ce0e19-55d8-4c6f-9b1a-959b445c749c",
   "metadata": {},
   "outputs": [],
   "source": [
    "# Download the redfin data for each county\n",
    "for idx, url in enumerate(urls):\n",
    "    downloadCSV(url, idx)    "
   ]
  },
  {
   "cell_type": "code",
   "execution_count": 8,
   "id": "f8b59d35-89a5-4602-b973-3217e745ad2a",
   "metadata": {},
   "outputs": [],
   "source": [
    "# Merge the redfin data of all counties and save it as .csv file \n",
    "path = r'CountyData'\n",
    "all_files = glob.glob(path + \"/*.csv\")\n",
    "\n",
    "li = []\n",
    "\n",
    "for filename in all_files:\n",
    "    df = pd.read_csv(filename, index_col=None, header=0)\n",
    "    df = df[:-1]\n",
    "    li.append(df)\n",
    "\n",
    "frame = pd.concat(li, axis=0, ignore_index=True)\n",
    "frame.to_csv('CountyData/AllCounties_Data.csv')"
   ]
  }
 ],
 "metadata": {
  "kernelspec": {
   "display_name": "Python 3 (ipykernel)",
   "language": "python",
   "name": "python3"
  },
  "language_info": {
   "codemirror_mode": {
    "name": "ipython",
    "version": 3
   },
   "file_extension": ".py",
   "mimetype": "text/x-python",
   "name": "python",
   "nbconvert_exporter": "python",
   "pygments_lexer": "ipython3",
   "version": "3.8.12"
  }
 },
 "nbformat": 4,
 "nbformat_minor": 5
}
